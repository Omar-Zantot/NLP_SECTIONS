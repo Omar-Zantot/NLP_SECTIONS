{
  "nbformat": 4,
  "nbformat_minor": 0,
  "metadata": {
    "colab": {
      "provenance": [],
      "authorship_tag": "ABX9TyMYvCykMa4WCA2eV8hWm0aD",
      "include_colab_link": true
    },
    "kernelspec": {
      "name": "python3",
      "display_name": "Python 3"
    },
    "language_info": {
      "name": "python"
    }
  },
  "cells": [
    {
      "cell_type": "markdown",
      "metadata": {
        "id": "view-in-github",
        "colab_type": "text"
      },
      "source": [
        "<a href=\"https://colab.research.google.com/github/Omar-Zantot/NLP_SECTIONS/blob/main/Lab_5.ipynb\" target=\"_parent\"><img src=\"https://colab.research.google.com/assets/colab-badge.svg\" alt=\"Open In Colab\"/></a>"
      ]
    },
    {
      "cell_type": "markdown",
      "source": [
        "##🧩 Package installation"
      ],
      "metadata": {
        "id": "GwdZEwjT1I_U"
      }
    },
    {
      "cell_type": "code",
      "execution_count": null,
      "metadata": {
        "id": "-DA9EOtvm3sa"
      },
      "outputs": [],
      "source": [
        "!pip install -U scikit-learn scipy numpy\n",
        "!pip install -U spacy==3.*\n",
        "!python -m spacy download en_core_web_sm"
      ]
    },
    {
      "cell_type": "code",
      "source": [
        "import spacy\n",
        "\n",
        "from scipy import spatial\n",
        "from sklearn.feature_extraction.text import CountVectorizer\n",
        "from sklearn.metrics.pairwise import cosine_similarity"
      ],
      "metadata": {
        "id": "zR0_rjSL1Ui9"
      },
      "execution_count": 1,
      "outputs": []
    },
    {
      "cell_type": "code",
      "source": [
        "# A corpus of sentences.\n",
        "corpus = [\n",
        "  \"Red Bull drops hint on F1 engine.\",\n",
        "  \"Honda exits F1, leaving F1 partner Red Bull.\",\n",
        "  \"Hamilton eyes record eighth F1 title.\",\n",
        "  \"Aston Martin announces sponsor.\"\n",
        "]\n",
        "# a statistical model.\n",
        "nlp = spacy.load('en_core_web_sm')\n",
        "# Create a tokenizer callback using spaCy\n",
        "# passed-in text and return the tokens, filtering out punctuation.\n",
        "def spacy_tokenizer(doc):\n",
        "  return [t.text for t in nlp(doc) if not t.is_punct]\n",
        "\n",
        "# vectorizer object\n",
        "vectorizer = CountVectorizer(tokenizer=spacy_tokenizer, lowercase=False, binary=True)\n",
        "'''\n",
        "fit creates the vocabulary.\n",
        "transform fills in the matrix based on this vocabulary.\n",
        "'''\n",
        "bow = vectorizer.fit_transform(corpus)\n",
        "print('A DT representation')\n",
        "print(bow.toarray())"
      ],
      "metadata": {
        "id": "hv0_vdK11_Gi",
        "outputId": "f5245f87-3cc2-48c6-ab33-bbd55a65161a",
        "colab": {
          "base_uri": "https://localhost:8080/"
        }
      },
      "execution_count": 5,
      "outputs": [
        {
          "output_type": "stream",
          "name": "stdout",
          "text": [
            "A DT representation\n",
            "[[0 1 1 0 0 0 1 0 1 0 1 0 0 1 0 1 0 0 0 0]\n",
            " [0 1 1 0 1 0 1 0 0 0 0 1 0 0 1 0 1 0 0 0]\n",
            " [0 0 1 1 0 0 0 0 0 1 0 0 1 0 0 0 0 1 0 1]\n",
            " [1 0 0 0 0 1 0 1 0 0 0 0 0 0 0 0 0 0 1 0]]\n"
          ]
        }
      ]
    },
    {
      "cell_type": "markdown",
      "source": [
        "##🧩Cosine Similarity\n",
        "One way to compute it is using the spatial package, which is a collection of spatial algorithms and data structures. It has a method to calculate cosine distance. To get the cosine similarity, we have to substract the distance from 1."
      ],
      "metadata": {
        "id": "z1wGeTiX1rOe"
      }
    },
    {
      "cell_type": "code",
      "source": [
        "# The cosine method expects array_like inputs, so we need to generate\n",
        "# arrays from our sparse matrix.\n",
        "doc1_vs_doc2 = 1 - spatial.distance.cosine(bow[0].toarray()[0], bow[1].toarray()[0])\n",
        "doc1_vs_doc3 = 1 - spatial.distance.cosine(bow[0].toarray()[0], bow[2].toarray()[0])\n",
        "doc1_vs_doc4 = 1 - spatial.distance.cosine(bow[0].toarray()[0], bow[3].toarray()[0])\n",
        "\n",
        "print(corpus)\n",
        "\n",
        "print(f\"Doc 1 vs Doc 2: {doc1_vs_doc2}\")\n",
        "print(f\"Doc 1 vs Doc 3: {doc1_vs_doc3}\")\n",
        "print(f\"Doc 1 vs Doc 4: {doc1_vs_doc4}\")"
      ],
      "metadata": {
        "id": "9Lr4ZTHZ15CF",
        "outputId": "a6e97de5-d1f4-4ad2-d1aa-dfc8db442580",
        "colab": {
          "base_uri": "https://localhost:8080/"
        }
      },
      "execution_count": 8,
      "outputs": [
        {
          "output_type": "stream",
          "name": "stdout",
          "text": [
            "['Red Bull drops hint on F1 engine.', 'Honda exits F1, leaving F1 partner Red Bull.', 'Hamilton eyes record eighth F1 title.', 'Aston Martin announces sponsor.']\n",
            "Doc 1 vs Doc 2: 0.4285714285714286\n",
            "Doc 1 vs Doc 3: 0.15430334996209194\n",
            "Doc 1 vs Doc 4: 0.0\n"
          ]
        }
      ]
    },
    {
      "cell_type": "markdown",
      "source": [
        "Another approach is using scikit-learn's cosine_similarity which computes the metric between multiple vectors. Here, we pass it our BOW and get a matrix of cosine similarities between each document."
      ],
      "metadata": {
        "id": "EIYAP8AR3_AX"
      }
    },
    {
      "cell_type": "code",
      "source": [
        "# cosine_similarity can take either array-likes or sparse matrices.\n",
        "print(cosine_similarity(bow))"
      ],
      "metadata": {
        "id": "2xdoLSPf4CVi",
        "outputId": "b528bd16-9ba0-4c6f-e014-3e036d2089ad",
        "colab": {
          "base_uri": "https://localhost:8080/"
        }
      },
      "execution_count": 9,
      "outputs": [
        {
          "output_type": "stream",
          "name": "stdout",
          "text": [
            "[[1.         0.42857143 0.15430335 0.        ]\n",
            " [0.42857143 1.         0.15430335 0.        ]\n",
            " [0.15430335 0.15430335 1.         0.        ]\n",
            " [0.         0.         0.         1.        ]]\n"
          ]
        }
      ]
    }
  ]
}
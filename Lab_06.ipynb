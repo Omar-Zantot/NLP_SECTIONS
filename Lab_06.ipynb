{
  "nbformat": 4,
  "nbformat_minor": 0,
  "metadata": {
    "colab": {
      "provenance": [],
      "toc_visible": true,
      "authorship_tag": "ABX9TyNLW3EWcfPPlWy+fgYtgZur",
      "include_colab_link": true
    },
    "kernelspec": {
      "name": "python3",
      "display_name": "Python 3"
    },
    "language_info": {
      "name": "python"
    }
  },
  "cells": [
    {
      "cell_type": "markdown",
      "metadata": {
        "id": "view-in-github",
        "colab_type": "text"
      },
      "source": [
        "<a href=\"https://colab.research.google.com/github/Omar-Zantot/NLP_SECTIONS/blob/main/Lab_06.ipynb\" target=\"_parent\"><img src=\"https://colab.research.google.com/assets/colab-badge.svg\" alt=\"Open In Colab\"/></a>"
      ]
    },
    {
      "cell_type": "code",
      "execution_count": 2,
      "metadata": {
        "id": "3chlNoPm6pgX"
      },
      "outputs": [],
      "source": [
        "# Regular Expressions in Python - re library\n",
        "import re"
      ]
    },
    {
      "cell_type": "markdown",
      "source": [
        "# 🧩 Introduction to Basic Functions in `re`\n",
        "\n",
        "* `findall` ▶ Returns a list containing all matches.\n",
        "* `search` ▶ Returns a Match object if there is a match **`anywhere`** in the string.\n",
        "* `split` ▶ Returns a list where the string has been split at each match.\n",
        "* `match` ▶ Returns a Match object if there is a match at the **`start`** of the string."
      ],
      "metadata": {
        "id": "z8UWYIBv_E6t"
      }
    },
    {
      "cell_type": "markdown",
      "source": [
        "# 🧩 Basic Pattern Matching"
      ],
      "metadata": {
        "id": "7ZeosxcpAz6G"
      }
    },
    {
      "cell_type": "code",
      "source": [
        "# Basic pattern matching\n",
        "txt = 'Omar'\n",
        "pattern = 'Omar'\n",
        "if re.match(pattern, txt):\n",
        "    print('Yes! Match found')\n",
        "else:\n",
        "    print('No match found')\n"
      ],
      "metadata": {
        "colab": {
          "base_uri": "https://localhost:8080/"
        },
        "id": "r8KjXHjkAERS",
        "outputId": "32ba8c56-add5-45aa-fd1b-3d61074f1428"
      },
      "execution_count": null,
      "outputs": [
        {
          "output_type": "stream",
          "name": "stdout",
          "text": [
            "Yes! Match found\n"
          ]
        }
      ]
    },
    {
      "cell_type": "markdown",
      "source": [
        "# 🧩 Special Characters"
      ],
      "metadata": {
        "id": "QCtgrrtxBGEG"
      }
    },
    {
      "cell_type": "markdown",
      "source": [
        "## The Period (`.`)\n",
        "+ Matches any single character except a newline."
      ],
      "metadata": {
        "id": "sHwrqMf7BMlB"
      }
    },
    {
      "cell_type": "code",
      "source": [
        "txt = \"Mohamed Maher\"\n",
        "pattern = \"M.h..ed\"\n",
        "print(re.findall(pattern, txt))  # Should return ['Mohamed']"
      ],
      "metadata": {
        "colab": {
          "base_uri": "https://localhost:8080/"
        },
        "id": "FxR9u3TOBmH0",
        "outputId": "727f3e41-1c4f-4ee3-9af6-6c8cc45738bd"
      },
      "execution_count": null,
      "outputs": [
        {
          "output_type": "stream",
          "name": "stdout",
          "text": [
            "['Mohamed']\n"
          ]
        }
      ]
    },
    {
      "cell_type": "markdown",
      "source": [],
      "metadata": {
        "id": "TEjlc-01aoh_"
      }
    },
    {
      "cell_type": "markdown",
      "source": [
        "## Start (`^`) and End (`$`) Anchors"
      ],
      "metadata": {
        "id": "vOyPxdzJFnW2"
      }
    },
    {
      "cell_type": "markdown",
      "source": [
        "### caret\n",
        "-`^` Matches the **`start`** of the string"
      ],
      "metadata": {
        "id": "zSjvFiKUFusZ"
      }
    },
    {
      "cell_type": "code",
      "source": [
        "txt = \"Omar loves programming\"\n",
        "pattern = \"^Omar\"\n",
        "print(re.findall(pattern, txt))  # Should match 'Omar' if it's at the start"
      ],
      "metadata": {
        "colab": {
          "base_uri": "https://localhost:8080/"
        },
        "id": "8Th6mGI6Fyge",
        "outputId": "c3c371cd-31bf-4fd1-fe68-a3de20d12f48"
      },
      "execution_count": null,
      "outputs": [
        {
          "output_type": "stream",
          "name": "stdout",
          "text": [
            "['Saeed']\n"
          ]
        }
      ]
    },
    {
      "cell_type": "code",
      "source": [
        "txt = \"Omar loves programming\"\n",
        "pattern = \"^loves\"\n",
        "print(re.findall(pattern, txt))  # No match !"
      ],
      "metadata": {
        "colab": {
          "base_uri": "https://localhost:8080/"
        },
        "id": "VknwbZW0HvGo",
        "outputId": "463881ea-c508-40a1-8416-c4fe21879bbe"
      },
      "execution_count": null,
      "outputs": [
        {
          "output_type": "stream",
          "name": "stdout",
          "text": [
            "[]\n"
          ]
        }
      ]
    },
    {
      "cell_type": "markdown",
      "source": [
        "- `$` Matches the end of the string"
      ],
      "metadata": {
        "id": "f02wFjZ7F1up"
      }
    },
    {
      "cell_type": "code",
      "source": [
        "txt = \"Omar loves programming\"\n",
        "pattern = \"programming$\"\n",
        "print(re.findall(pattern, txt))  # Matches only if 'programming' is at the end\n",
        "print(re.findall('ing$', txt))   #\n",
        "print(re.findall('ed$', txt))   #"
      ],
      "metadata": {
        "colab": {
          "base_uri": "https://localhost:8080/"
        },
        "id": "-WUzcp8HF-1Z",
        "outputId": "9d6ab3bd-0762-4693-f630-87df5ed7f89a"
      },
      "execution_count": null,
      "outputs": [
        {
          "output_type": "stream",
          "name": "stdout",
          "text": [
            "['programming']\n",
            "['ing']\n",
            "[]\n"
          ]
        }
      ]
    },
    {
      "cell_type": "markdown",
      "source": [
        "## [25Ab]\n",
        "- Matches 2 or 5 or A or b\n",
        "\n",
        "## [a-zA-z0-9]\n",
        "* It matches any single character that is:\n",
        "    1. a lowercase letter (a to z)\n",
        "    2. an uppercase letter (A to Z)\n",
        "    3. a digit (0 to 9)"
      ],
      "metadata": {
        "id": "Wu5cvwYQJppK"
      }
    },
    {
      "cell_type": "code",
      "source": [
        "txt = \"My favorite colors are Red, Green, and blue.\"\n",
        "pattern = \"[Rr]ed|[Gg]reen|[Bb]lue\"\n",
        "print(re.findall(pattern, txt))"
      ],
      "metadata": {
        "colab": {
          "base_uri": "https://localhost:8080/"
        },
        "id": "pxids35vKPJg",
        "outputId": "2e119c56-1831-468d-ef88-5dcfdbcfd58d"
      },
      "execution_count": null,
      "outputs": [
        {
          "output_type": "stream",
          "name": "stdout",
          "text": [
            "['Red', 'Green', 'blue']\n"
          ]
        }
      ]
    },
    {
      "cell_type": "code",
      "source": [
        "txt = \"Omar is 22 years old.\"\n",
        "pattern = \"[a-zA-Z0-9]\"\n",
        "print(re.findall(pattern, txt))"
      ],
      "metadata": {
        "colab": {
          "base_uri": "https://localhost:8080/"
        },
        "id": "-k8CNbD2LYww",
        "outputId": "8924340c-13e2-47a3-f00d-5398043be55b"
      },
      "execution_count": null,
      "outputs": [
        {
          "output_type": "stream",
          "name": "stdout",
          "text": [
            "['O', 'm', 'a', 'r', 'i', 's', '2', '2', 'y', 'e', 'a', 'r', 's', 'o', 'l', 'd']\n"
          ]
        }
      ]
    },
    {
      "cell_type": "code",
      "source": [
        "txt = \"Omar is 22 years old.\"\n",
        "pattern = \"Omar [a-zA-Z0-9]\"\n",
        "print(re.findall(pattern, txt))"
      ],
      "metadata": {
        "colab": {
          "base_uri": "https://localhost:8080/"
        },
        "id": "ry9xcLnjL-Mq",
        "outputId": "f02eae3a-38f9-44ef-b863-9b98475dffbe"
      },
      "execution_count": null,
      "outputs": [
        {
          "output_type": "stream",
          "name": "stdout",
          "text": [
            "['Omar i']\n"
          ]
        }
      ]
    },
    {
      "cell_type": "markdown",
      "source": [
        "using caret `^` in [ ] will look for complementary set"
      ],
      "metadata": {
        "id": "Z_59Kt6daaZI"
      }
    },
    {
      "cell_type": "code",
      "source": [
        "txt = \"4 years\"\n",
        "pattern = \"[^9] years\"\n",
        "m = re.findall(pattern, txt)\n",
        "print(m)"
      ],
      "metadata": {
        "colab": {
          "base_uri": "https://localhost:8080/"
        },
        "id": "3kyJxpCdavjE",
        "outputId": "cc9602cf-7a4d-4b98-e24a-e6845cd01cbc"
      },
      "execution_count": null,
      "outputs": [
        {
          "output_type": "stream",
          "name": "stdout",
          "text": [
            "['4 years']\n"
          ]
        }
      ]
    },
    {
      "cell_type": "code",
      "source": [
        "txt = \"4 years\"\n",
        "pattern = \"[^4] years\"\n",
        "m = re.findall(pattern, txt)\n",
        "print(m)"
      ],
      "metadata": {
        "colab": {
          "base_uri": "https://localhost:8080/"
        },
        "id": "W0OCF5v9awnS",
        "outputId": "add53281-a267-4576-cf99-e7ed3f2092b6"
      },
      "execution_count": null,
      "outputs": [
        {
          "output_type": "stream",
          "name": "stdout",
          "text": [
            "[]\n"
          ]
        }
      ]
    },
    {
      "cell_type": "markdown",
      "source": [
        "## 🧩 Escaping with `\\`\n",
        "\n",
        "Backslash - 2 options\n",
        "- Option1: special characters, such as (\\t, \\s, ...)\n",
        "- Option2: not special character, treated like any other character or removes special meaning (\\s, \\t, ...)"
      ],
      "metadata": {
        "id": "z7s4EojTbM_y"
      }
    },
    {
      "cell_type": "code",
      "source": [
        "# Option 1 - treating \\ with special charachter (\\s mean space)\n",
        "txt = \"Omar shady\"\n",
        "pattern = \"Omar\\shady\"\n",
        "m = re.findall(pattern, txt)\n",
        "print(m)"
      ],
      "metadata": {
        "colab": {
          "base_uri": "https://localhost:8080/"
        },
        "id": "LKpaEDrZbr_Y",
        "outputId": "173fa65a-a0bc-458d-a628-f21a52e92d6e"
      },
      "execution_count": null,
      "outputs": [
        {
          "output_type": "stream",
          "name": "stdout",
          "text": [
            "[]\n"
          ]
        }
      ]
    },
    {
      "cell_type": "code",
      "source": [
        "txt = \"Omar shady\"\n",
        "pattern = \"Omar\\sshady\"\n",
        "m = re.findall(pattern, txt)\n",
        "print(m)"
      ],
      "metadata": {
        "colab": {
          "base_uri": "https://localhost:8080/"
        },
        "id": "WkI6ub3xbwaH",
        "outputId": "96052aa1-4077-41d7-c82e-ce0c07d135b1"
      },
      "execution_count": null,
      "outputs": [
        {
          "output_type": "stream",
          "name": "stdout",
          "text": [
            "['Omar shady']\n"
          ]
        }
      ]
    },
    {
      "cell_type": "code",
      "source": [
        "# Option 2 - treating \\ like any other character\n",
        "txt = \"Subscribe [o]mar channel\"\n",
        "pattern_0 = \"Subscribe [o]mar\"\n",
        "pattern_1 = \"Subscribe \\[o\\]mar\"\n",
        "\n",
        "m0 = re.findall(pattern_0, txt)\n",
        "m1 = re.findall(pattern_1, txt)\n",
        "print(m0)\n",
        "print(m1)"
      ],
      "metadata": {
        "colab": {
          "base_uri": "https://localhost:8080/"
        },
        "id": "9uk0vDt4bxe3",
        "outputId": "55711b6d-00f7-4de8-d08b-e5153c7289aa"
      },
      "execution_count": null,
      "outputs": [
        {
          "output_type": "stream",
          "name": "stdout",
          "text": [
            "[]\n",
            "['Subscribe [o]mar']\n"
          ]
        }
      ]
    },
    {
      "cell_type": "markdown",
      "source": [
        "### more special characters\n",
        "+ `\\t` - Matches tab\n",
        "+ `\\n` - Matches newline\n",
        "+ `\\A` - Matches only at the start of the string\n",
        "+ `\\Z` - Matches only at the end of the string"
      ],
      "metadata": {
        "id": "mAwAxCEYdmz4"
      }
    },
    {
      "cell_type": "code",
      "source": [
        "# reminder ^ sign\n",
        "txt = \"Omar loves programming\"\n",
        "pattern = \"\\AOmar\"\n",
        "m = re.findall(pattern, txt)\n",
        "print(m)"
      ],
      "metadata": {
        "colab": {
          "base_uri": "https://localhost:8080/"
        },
        "id": "TxZ9MDf8d1rD",
        "outputId": "5ea1a71a-0765-4f86-fdb1-fe222a4d7f42"
      },
      "execution_count": null,
      "outputs": [
        {
          "output_type": "stream",
          "name": "stdout",
          "text": [
            "['Omar']\n"
          ]
        }
      ]
    },
    {
      "cell_type": "code",
      "source": [
        "# reminder $ sign\n",
        "txt = \"Omar loves programming\"\n",
        "pattern = \"ming\\Z\"\n",
        "m = re.findall(pattern, txt)\n",
        "print(m)"
      ],
      "metadata": {
        "colab": {
          "base_uri": "https://localhost:8080/"
        },
        "id": "yUwgj85td9Kv",
        "outputId": "b410a54b-85f3-4aaa-f24b-1c5646a56879"
      },
      "execution_count": null,
      "outputs": [
        {
          "output_type": "stream",
          "name": "stdout",
          "text": [
            "['ming']\n"
          ]
        }
      ]
    },
    {
      "cell_type": "markdown",
      "source": [
        "## 🧩 Common Patterns (`\\w`, `\\d`, `\\s`)\n",
        "- `\\w`: Matches any single letter, digit, or underscore.\n",
        "- `\\W`: Matches any character not part of `\\w`.\n",
        "- `\\d`: Matches any decimal digit (0-9).\n",
        "- `\\D`: Matches any character that is not a digit.\n",
        "- `\\s`: Matches any whitespace character.\n",
        "- `\\S`: Matches any non-whitespace character."
      ],
      "metadata": {
        "id": "A8W2LQOPeM34"
      }
    },
    {
      "cell_type": "code",
      "source": [
        "txt = \"Omar loves programming\"\n",
        "pattern = \"Omar loves \\wrogramming\"\n",
        "# similar to [0-9a-zA-Z_]\n",
        "m = re.findall(pattern, txt)\n",
        "print(m)"
      ],
      "metadata": {
        "colab": {
          "base_uri": "https://localhost:8080/"
        },
        "id": "3Of4pY_be5Vc",
        "outputId": "65395ce1-a7ee-48b1-e77a-11bd5d4dbc6a"
      },
      "execution_count": null,
      "outputs": [
        {
          "output_type": "stream",
          "name": "stdout",
          "text": [
            "['Omar loves programming']\n"
          ]
        }
      ]
    },
    {
      "cell_type": "code",
      "source": [
        "txt = \"Omar loves %rogramming\"\n",
        "pattern = \"Omar loves \\Wrogramming\"\n",
        "# similar to [^0-9a-zA-Z_]\n",
        "m = re.findall(pattern, txt)\n",
        "print(m)"
      ],
      "metadata": {
        "colab": {
          "base_uri": "https://localhost:8080/"
        },
        "id": "4ucXDm8ofFqe",
        "outputId": "1b410153-c145-4a5e-82c9-f3b1db50784e"
      },
      "execution_count": null,
      "outputs": [
        {
          "output_type": "stream",
          "name": "stdout",
          "text": [
            "['Omar loves %rogramming']\n"
          ]
        }
      ]
    },
    {
      "cell_type": "code",
      "source": [
        "txt = \"4 years\"\n",
        "pattern = \"\\d years\"\n",
        "# similar to [0-9]\n",
        "m = re.findall(pattern, txt)\n",
        "print(m)"
      ],
      "metadata": {
        "colab": {
          "base_uri": "https://localhost:8080/"
        },
        "id": "iC6nfWsOfpjm",
        "outputId": "9f908a5a-4034-4972-86d9-68de7e96eddc"
      },
      "execution_count": null,
      "outputs": [
        {
          "output_type": "stream",
          "name": "stdout",
          "text": [
            "['4 years']\n"
          ]
        }
      ]
    },
    {
      "cell_type": "code",
      "source": [
        "txt = \"% years\"\n",
        "pattern = \"\\D years\"\n",
        "# similar to [^0-9]\n",
        "m = re.findall(pattern, txt)\n",
        "print(m)"
      ],
      "metadata": {
        "colab": {
          "base_uri": "https://localhost:8080/"
        },
        "id": "GWPXyxXVfsvr",
        "outputId": "fa5900ce-4934-4c60-b8b7-b032dcdd4b39"
      },
      "execution_count": null,
      "outputs": [
        {
          "output_type": "stream",
          "name": "stdout",
          "text": [
            "['% years']\n"
          ]
        }
      ]
    },
    {
      "cell_type": "code",
      "source": [
        "txt = \"Omar loves programming\"\n",
        "pattern = \"Omar\\sloves\"\n",
        "m = re.findall(pattern, txt)\n",
        "print(m)"
      ],
      "metadata": {
        "colab": {
          "base_uri": "https://localhost:8080/"
        },
        "id": "oH97PIPFgJq4",
        "outputId": "ed02aae4-933a-435a-b7f1-e36a598170f2"
      },
      "execution_count": null,
      "outputs": [
        {
          "output_type": "stream",
          "name": "stdout",
          "text": [
            "['Omar loves']\n"
          ]
        }
      ]
    },
    {
      "cell_type": "code",
      "source": [
        "txt = \"Omar-loves programming\"\n",
        "pattern = \"Omar\\Sloves\"\n",
        "m = re.findall(pattern, txt)\n",
        "print(m)"
      ],
      "metadata": {
        "colab": {
          "base_uri": "https://localhost:8080/"
        },
        "id": "KJThIe0kgPQU",
        "outputId": "6d18755c-07ab-4c64-9071-b07f6a956a07"
      },
      "execution_count": null,
      "outputs": [
        {
          "output_type": "stream",
          "name": "stdout",
          "text": [
            "['Omar-loves']\n"
          ]
        }
      ]
    },
    {
      "cell_type": "markdown",
      "source": [
        "## 🧩 Quantifiers"
      ],
      "metadata": {
        "id": "yKcCYWHgg9n3"
      }
    },
    {
      "cell_type": "markdown",
      "source": [
        "### `+` - one or more accurrences"
      ],
      "metadata": {
        "id": "Sxfq9jSIhJw4"
      }
    },
    {
      "cell_type": "code",
      "source": [
        "txt = \"programmmmmmmming\"\n",
        "pattern = \"program+ing\"\n",
        "print(re.findall(pattern, txt))  # Matches 'programmmmmmmming'"
      ],
      "metadata": {
        "colab": {
          "base_uri": "https://localhost:8080/"
        },
        "id": "qwfsXSyzhA6M",
        "outputId": "b0abca35-372c-42a1-9e15-92e90ddbdaba"
      },
      "execution_count": null,
      "outputs": [
        {
          "output_type": "stream",
          "name": "stdout",
          "text": [
            "['programmmmmmmming']\n"
          ]
        }
      ]
    },
    {
      "cell_type": "code",
      "source": [
        "# will this work ?\n",
        "txt = \"programmmmmmmming\"\n",
        "pattern = \"progra\\w+ing\"\n",
        "m = re.findall(pattern, txt)\n",
        "print(m)"
      ],
      "metadata": {
        "colab": {
          "base_uri": "https://localhost:8080/"
        },
        "id": "czYEkzoOiF04",
        "outputId": "7c375797-30a6-41ce-b884-d520945b5d66"
      },
      "execution_count": null,
      "outputs": [
        {
          "output_type": "stream",
          "name": "stdout",
          "text": [
            "['programmmmmmmming']\n"
          ]
        }
      ]
    },
    {
      "cell_type": "code",
      "source": [
        "# This will not work!\n",
        "txt = \"programmmmmmmming\"\n",
        "pattern = \"progras+ing\"\n",
        "m = re.findall(pattern, txt)\n",
        "print(m)"
      ],
      "metadata": {
        "colab": {
          "base_uri": "https://localhost:8080/"
        },
        "id": "2jBKGlzRiNgw",
        "outputId": "e87309e7-abd9-4d54-d56b-03b35504e48f"
      },
      "execution_count": null,
      "outputs": [
        {
          "output_type": "stream",
          "name": "stdout",
          "text": [
            "[]\n"
          ]
        }
      ]
    },
    {
      "cell_type": "markdown",
      "source": [
        "`*` - Zero or more occurrences"
      ],
      "metadata": {
        "id": "tuNV1BLahUbQ"
      }
    },
    {
      "cell_type": "code",
      "source": [
        "txt = \"programmmmmmmming\"\n",
        "pattern = \"program*ing\"\n",
        "print(re.findall(pattern, txt))  # Matches with any number of 'm's"
      ],
      "metadata": {
        "colab": {
          "base_uri": "https://localhost:8080/"
        },
        "id": "bXyUzKOihXUY",
        "outputId": "069324e8-dc9b-4230-abbe-fb9e379ea018"
      },
      "execution_count": null,
      "outputs": [
        {
          "output_type": "stream",
          "name": "stdout",
          "text": [
            "['programmmmmmmming']\n"
          ]
        }
      ]
    },
    {
      "cell_type": "code",
      "source": [
        "txt = \"programmmmmmmming\"\n",
        "pattern = \"program*f*ing\"\n",
        "print(re.findall(pattern, txt))"
      ],
      "metadata": {
        "colab": {
          "base_uri": "https://localhost:8080/"
        },
        "id": "2ki-v9HPi5gb",
        "outputId": "cca751f2-3083-4ae0-99a8-3ff38d07f804"
      },
      "execution_count": null,
      "outputs": [
        {
          "output_type": "stream",
          "name": "stdout",
          "text": [
            "['programmmmmmmming']\n"
          ]
        }
      ]
    },
    {
      "cell_type": "markdown",
      "source": [
        "`?` - Zero or one occurrence"
      ],
      "metadata": {
        "id": "DghTzdzYhlFh"
      }
    },
    {
      "cell_type": "code",
      "source": [
        "txt = \"programming\"\n",
        "pattern = \"programm?ing\"\n",
        "print(re.findall(pattern, txt))  # Matches with zero or one 'm'"
      ],
      "metadata": {
        "colab": {
          "base_uri": "https://localhost:8080/"
        },
        "id": "IzN19iMxhnQL",
        "outputId": "c4a4570d-ff81-4332-b2e5-ec3f710735bb"
      },
      "execution_count": null,
      "outputs": [
        {
          "output_type": "stream",
          "name": "stdout",
          "text": [
            "['programming']\n"
          ]
        }
      ]
    },
    {
      "cell_type": "code",
      "source": [
        "txt = \"programming\"\n",
        "pattern = \"programmf?ing\"\n",
        "print(re.findall(pattern, txt))  # Matches with zero or one 'm'"
      ],
      "metadata": {
        "colab": {
          "base_uri": "https://localhost:8080/"
        },
        "id": "n2THf-_pjQOr",
        "outputId": "f8a389b8-1e07-495c-e6b8-67aa3cc0799e"
      },
      "execution_count": null,
      "outputs": [
        {
          "output_type": "stream",
          "name": "stdout",
          "text": [
            "['programming']\n"
          ]
        }
      ]
    },
    {
      "cell_type": "markdown",
      "source": [
        "`{x,y}` - Range of occurrences"
      ],
      "metadata": {
        "id": "18b8TcfIhpMn"
      }
    },
    {
      "cell_type": "code",
      "source": [
        "txt = \"programmmmming\"\n",
        "pattern = \"programm{2,}ing\"\n",
        "print(re.findall(pattern, txt))  # Matches 'programmmmming' with at least 2 'm's"
      ],
      "metadata": {
        "colab": {
          "base_uri": "https://localhost:8080/"
        },
        "id": "_X5U820Fhtb2",
        "outputId": "925cca4d-fee2-42a0-9b87-6018f370dd2b"
      },
      "execution_count": null,
      "outputs": [
        {
          "output_type": "stream",
          "name": "stdout",
          "text": [
            "['programmmmming']\n"
          ]
        }
      ]
    },
    {
      "cell_type": "markdown",
      "source": [
        "# 🧩 Use-cases in NLP"
      ],
      "metadata": {
        "id": "mKKChhm7z99y"
      }
    },
    {
      "cell_type": "markdown",
      "source": [
        "# Tokenization 📝"
      ],
      "metadata": {
        "id": "JmshcJ-W0GUg"
      }
    },
    {
      "cell_type": "markdown",
      "source": [
        "## 🪄 Note :  \n",
        "The `re.split()` function in Python’s re library is used to split a string by a specified regular expression pattern, giving you ***more control over how the splitting occurs*** compared to Python’s **built-in** `str.split()` method."
      ],
      "metadata": {
        "id": "JrRuRZKC1mtM"
      }
    },
    {
      "cell_type": "markdown",
      "source": [
        "### Simple Split on Non-Word Characters\n",
        "#### Splitting by any character that is not a letter, digit, or underscore (`\\W+`)."
      ],
      "metadata": {
        "id": "oHz0QbKz2OWl"
      }
    },
    {
      "cell_type": "code",
      "source": [
        "text = \"Hello, world! Welcome to NLP.\"\n",
        "result = re.split('\\W+', text)\n",
        "print(result)"
      ],
      "metadata": {
        "colab": {
          "base_uri": "https://localhost:8080/"
        },
        "id": "CXAQuaA62RTW",
        "outputId": "bdb4b2b9-428f-45a7-dd8a-3265e0c146bb"
      },
      "execution_count": 5,
      "outputs": [
        {
          "output_type": "stream",
          "name": "stdout",
          "text": [
            "['Hello', 'world', 'Welcome', 'to', 'NLP', '']\n"
          ]
        }
      ]
    },
    {
      "cell_type": "markdown",
      "source": [
        "#### Splitting on **Digits**"
      ],
      "metadata": {
        "id": "U-S6pSyp2j6C"
      }
    },
    {
      "cell_type": "code",
      "source": [
        "text = \"There are 3 cats, 4 dogs, and 1 bird.\"\n",
        "result = re.split('\\d+', text)\n",
        "print(result)"
      ],
      "metadata": {
        "colab": {
          "base_uri": "https://localhost:8080/"
        },
        "id": "tI9Y7P-f2ngQ",
        "outputId": "7b0dd447-11fb-49b9-dd7a-89f4ef4c2772"
      },
      "execution_count": 6,
      "outputs": [
        {
          "output_type": "stream",
          "name": "stdout",
          "text": [
            "['There are ', ' cats, ', ' dogs, and ', ' bird.']\n"
          ]
        }
      ]
    },
    {
      "cell_type": "markdown",
      "source": [
        "#### Splitting on Multiple Delimiters"
      ],
      "metadata": {
        "id": "pxVYWkH03AJc"
      }
    },
    {
      "cell_type": "code",
      "source": [
        "text = \"apple, orange; banana grape\"\n",
        "result = re.split('[,\\s;]+', text)\n",
        "print(result)"
      ],
      "metadata": {
        "colab": {
          "base_uri": "https://localhost:8080/"
        },
        "id": "U5KuD-js2-jx",
        "outputId": "963d5ce5-a2a3-428b-d7d0-de84b501e603"
      },
      "execution_count": 7,
      "outputs": [
        {
          "output_type": "stream",
          "name": "stdout",
          "text": [
            "['apple', 'orange', 'banana', 'grape']\n"
          ]
        }
      ]
    },
    {
      "cell_type": "markdown",
      "source": [
        "# Text Cleaning and Preprocessing 🧼"
      ],
      "metadata": {
        "id": "puZSHMaS4CWk"
      }
    },
    {
      "cell_type": "markdown",
      "source": [
        "### 🪄 Note:\n",
        "The `re.sub()` function in Python's `re` library is used to replace parts of a string that match a regular expression pattern with a specified replacement. It’s particularly useful in NLP for cleaning and normalizing text data, like removing unwanted characters, handling contractions, or replacing multiple spaces."
      ],
      "metadata": {
        "id": "-RSIoOMK5ljG"
      }
    },
    {
      "cell_type": "markdown",
      "source": [
        "#### Removes punctuation & wight spaces"
      ],
      "metadata": {
        "id": "Wu_E-zhF5_Ld"
      }
    },
    {
      "cell_type": "code",
      "source": [
        "text = \"Hello! This text needs some cleaning...      Lots of extra spaces too!\"\n",
        "cleaned_text = re.sub('[^\\w\\s]', '', text)  # Removes punctuation\n",
        "print(cleaned_text)\n",
        "cleaned_text = re.sub('\\s+', ' ', cleaned_text).strip()  # Replaces multiple spaces with a single space\n",
        "print(cleaned_text)"
      ],
      "metadata": {
        "colab": {
          "base_uri": "https://localhost:8080/"
        },
        "id": "DBQDnw914NPP",
        "outputId": "d6fb6218-8fb7-4553-b44a-4ba069584ed7"
      },
      "execution_count": 8,
      "outputs": [
        {
          "output_type": "stream",
          "name": "stdout",
          "text": [
            "Hello This text needs some cleaning      Lots of extra spaces too\n",
            "Hello This text needs some cleaning Lots of extra spaces too\n"
          ]
        }
      ]
    },
    {
      "cell_type": "markdown",
      "source": [
        "#### Handling Contractions"
      ],
      "metadata": {
        "id": "nD7HU1h156SH"
      }
    },
    {
      "cell_type": "code",
      "source": [
        "text = \"I can't believe it's already 2024!\"\n",
        "expanded_text = re.sub(\"can't\", \"cannot\", text)\n",
        "expanded_text = re.sub(\"it's\", \"it is\", expanded_text)\n",
        "print(expanded_text)"
      ],
      "metadata": {
        "colab": {
          "base_uri": "https://localhost:8080/"
        },
        "id": "Gv4iXRiG6I2e",
        "outputId": "5a0c9379-7551-4257-d236-031a88d86420"
      },
      "execution_count": 9,
      "outputs": [
        {
          "output_type": "stream",
          "name": "stdout",
          "text": [
            "I cannot believe it is already 2024!\n"
          ]
        }
      ]
    },
    {
      "cell_type": "markdown",
      "source": [
        "# Pattern Matching and Entity Recognition 🔍"
      ],
      "metadata": {
        "id": "FHUYwetw6dvB"
      }
    },
    {
      "cell_type": "code",
      "source": [
        "text = \"Our next NLP class is on 2024-11-28. Save the date!\"\n",
        "dates = re.findall(r'\\b\\d{4}-\\d{2}-\\d{2}\\b', text)  # Finds dates in YYYY-MM-DD format\n",
        "print(dates)\n",
        "\n",
        "# \\b marks a word boundary"
      ],
      "metadata": {
        "colab": {
          "base_uri": "https://localhost:8080/"
        },
        "id": "GxRo8WqX6z3J",
        "outputId": "ec4ffb56-c2da-4ef9-fb84-4d3e557c90be"
      },
      "execution_count": 10,
      "outputs": [
        {
          "output_type": "stream",
          "name": "stdout",
          "text": [
            "['2024-11-28']\n"
          ]
        }
      ]
    },
    {
      "cell_type": "code",
      "source": [
        "# Ex: create a pattern to validate an email\n",
        "\n",
        "import re\n",
        "\n",
        "def validate_email(email):\n",
        "  pattern = '\\w+@\\w+.com'\n",
        "  if re.match(pattern, email):\n",
        "    return True\n",
        "  else:\n",
        "    return False\n",
        "\n",
        "email = \"omar82199@gmail.com\"\n",
        "if validate_email(email):\n",
        "  print(\"Valid email address\")\n",
        "else:\n",
        "  print(\"Invalid email address\")"
      ],
      "metadata": {
        "id": "06Kjl98tlj3o"
      },
      "execution_count": null,
      "outputs": []
    },
    {
      "cell_type": "code",
      "source": [
        "# Extracts all numeric sequences\n",
        "txt = '101010 202020 Saeed 404040 505050 Isa'\n",
        "pattern_0 = '[\\d]+'\n",
        "pattern_1 = '\\d+'\n",
        "print(re.findall(pattern_0, txt))  # Extracts all numeric sequences\n"
      ],
      "metadata": {
        "colab": {
          "base_uri": "https://localhost:8080/"
        },
        "id": "PGZ3-hMuluwI",
        "outputId": "11e188e8-6ab5-4930-bc41-03b8342911bb"
      },
      "execution_count": null,
      "outputs": [
        {
          "output_type": "stream",
          "name": "stdout",
          "text": [
            "['101010', '202020', '404040', '505050']\n"
          ]
        }
      ]
    },
    {
      "cell_type": "code",
      "source": [
        "txt0 = 'The end is The end'\n",
        "txt1 = 'The end is not as i guiss'\n",
        "txt2 = 'The end'\n",
        "txt3 = 'The apple end'\n",
        "pattern = '^The end$'\n",
        "print(re.findall(pattern, txt0))\n",
        "print(re.findall(pattern, txt1))\n",
        "print(re.findall(pattern, txt2))\n",
        "print(re.findall(pattern, txt3))"
      ],
      "metadata": {
        "colab": {
          "base_uri": "https://localhost:8080/"
        },
        "id": "tutM3nsnMyc7",
        "outputId": "42d0db84-0201-430e-d880-13df5d30cd7f"
      },
      "execution_count": null,
      "outputs": [
        {
          "output_type": "stream",
          "name": "stdout",
          "text": [
            "[]\n",
            "[]\n",
            "['The end']\n",
            "[]\n"
          ]
        }
      ]
    },
    {
      "cell_type": "code",
      "source": [
        "result = re.match('noorhan', 'name noorhan')\n",
        "print(result != None)"
      ],
      "metadata": {
        "colab": {
          "base_uri": "https://localhost:8080/"
        },
        "id": "IuOOKHxBQpjr",
        "outputId": "12eaf0d7-2c9a-490f-fa6b-af12a221bd12"
      },
      "execution_count": null,
      "outputs": [
        {
          "output_type": "stream",
          "name": "stdout",
          "text": [
            "False\n"
          ]
        }
      ]
    },
    {
      "cell_type": "code",
      "source": [
        "result = re.search('noorhan', 'name noorhan')\n",
        "print(result != None)"
      ],
      "metadata": {
        "colab": {
          "base_uri": "https://localhost:8080/"
        },
        "id": "x_UMAof4Sm1z",
        "outputId": "812298e0-7d0d-4ba8-8287-89d261519902"
      },
      "execution_count": null,
      "outputs": [
        {
          "output_type": "stream",
          "name": "stdout",
          "text": [
            "True\n"
          ]
        }
      ]
    }
  ]
}